{
 "cells": [
  {
   "cell_type": "markdown",
   "metadata": {},
   "source": [
    "#### This project will explore, segment, and cluster the neighborhoods in the city of Toronto"
   ]
  },
  {
   "cell_type": "markdown",
   "metadata": {},
   "source": [
    "##### Importing required libraries"
   ]
  },
  {
   "cell_type": "code",
   "execution_count": 1,
   "metadata": {},
   "outputs": [],
   "source": [
    "import pandas as pd\n",
    "import numpy as np\n",
    "import urllib.request\n",
    "import requests\n",
    "import time\n",
    "import geocoder\n",
    "from bs4 import BeautifulSoup\n",
    "import ssl\n",
    "import json\n",
    "from geopy.geocoders import Nominatim\n",
    "from pandas.io.json import json_normalize\n",
    "import matplotlib.cm as cm\n",
    "import matplotlib.colors as colors\n",
    "from sklearn.cluster import KMeans\n",
    "import folium\n",
    "\n",
    "ssl._create_default_https_context = ssl._create_unverified_context"
   ]
  },
  {
   "cell_type": "markdown",
   "metadata": {},
   "source": [
    "##### Getting the contents of the website with 'requests' library"
   ]
  },
  {
   "cell_type": "code",
   "execution_count": 2,
   "metadata": {},
   "outputs": [
    {
     "data": {
      "text/plain": [
       "<Response [200]>"
      ]
     },
     "execution_count": 2,
     "metadata": {},
     "output_type": "execute_result"
    }
   ],
   "source": [
    "url = 'https://en.wikipedia.org/wiki/List_of_postal_codes_of_Canada:_M'\n",
    "response = requests.get(url)\n",
    "response"
   ]
  },
  {
   "cell_type": "markdown",
   "metadata": {},
   "source": [
    "##### Scraping the contents from html using BeautifulSoup and building an initial Pandas dataframe"
   ]
  },
  {
   "cell_type": "code",
   "execution_count": 3,
   "metadata": {
    "scrolled": false
   },
   "outputs": [
    {
     "data": {
      "text/html": [
       "<div>\n",
       "<style scoped>\n",
       "    .dataframe tbody tr th:only-of-type {\n",
       "        vertical-align: middle;\n",
       "    }\n",
       "\n",
       "    .dataframe tbody tr th {\n",
       "        vertical-align: top;\n",
       "    }\n",
       "\n",
       "    .dataframe thead th {\n",
       "        text-align: right;\n",
       "    }\n",
       "</style>\n",
       "<table border=\"1\" class=\"dataframe\">\n",
       "  <thead>\n",
       "    <tr style=\"text-align: right;\">\n",
       "      <th></th>\n",
       "      <th>PostalCode</th>\n",
       "      <th>Borough</th>\n",
       "      <th>Neighborhood</th>\n",
       "    </tr>\n",
       "  </thead>\n",
       "  <tbody>\n",
       "    <tr>\n",
       "      <th>0</th>\n",
       "      <td>M1A</td>\n",
       "      <td>Not assigned</td>\n",
       "      <td>Not assigned</td>\n",
       "    </tr>\n",
       "    <tr>\n",
       "      <th>1</th>\n",
       "      <td>M2A</td>\n",
       "      <td>Not assigned</td>\n",
       "      <td>Not assigned</td>\n",
       "    </tr>\n",
       "    <tr>\n",
       "      <th>2</th>\n",
       "      <td>M3A</td>\n",
       "      <td>North York</td>\n",
       "      <td>Parkwoods</td>\n",
       "    </tr>\n",
       "    <tr>\n",
       "      <th>3</th>\n",
       "      <td>M4A</td>\n",
       "      <td>North York</td>\n",
       "      <td>Victoria Village</td>\n",
       "    </tr>\n",
       "    <tr>\n",
       "      <th>4</th>\n",
       "      <td>M5A</td>\n",
       "      <td>Downtown Toronto</td>\n",
       "      <td>Harbourfront</td>\n",
       "    </tr>\n",
       "    <tr>\n",
       "      <th>5</th>\n",
       "      <td>M5A</td>\n",
       "      <td>Downtown Toronto</td>\n",
       "      <td>Regent Park</td>\n",
       "    </tr>\n",
       "    <tr>\n",
       "      <th>6</th>\n",
       "      <td>M6A</td>\n",
       "      <td>North York</td>\n",
       "      <td>Lawrence Heights</td>\n",
       "    </tr>\n",
       "    <tr>\n",
       "      <th>7</th>\n",
       "      <td>M6A</td>\n",
       "      <td>North York</td>\n",
       "      <td>Lawrence Manor</td>\n",
       "    </tr>\n",
       "    <tr>\n",
       "      <th>8</th>\n",
       "      <td>M7A</td>\n",
       "      <td>Queen's Park</td>\n",
       "      <td>Not assigned</td>\n",
       "    </tr>\n",
       "    <tr>\n",
       "      <th>9</th>\n",
       "      <td>M8A</td>\n",
       "      <td>Not assigned</td>\n",
       "      <td>Not assigned</td>\n",
       "    </tr>\n",
       "  </tbody>\n",
       "</table>\n",
       "</div>"
      ],
      "text/plain": [
       "  PostalCode           Borough      Neighborhood\n",
       "0        M1A      Not assigned      Not assigned\n",
       "1        M2A      Not assigned      Not assigned\n",
       "2        M3A        North York         Parkwoods\n",
       "3        M4A        North York  Victoria Village\n",
       "4        M5A  Downtown Toronto      Harbourfront\n",
       "5        M5A  Downtown Toronto       Regent Park\n",
       "6        M6A        North York  Lawrence Heights\n",
       "7        M6A        North York    Lawrence Manor\n",
       "8        M7A      Queen's Park      Not assigned\n",
       "9        M8A      Not assigned      Not assigned"
      ]
     },
     "execution_count": 3,
     "metadata": {},
     "output_type": "execute_result"
    }
   ],
   "source": [
    "# instantiating the soup object with response text, and html.parser option\n",
    "soup = BeautifulSoup(response.text, \"html.parser\")\n",
    "\n",
    "# parsing the table part of the response by looking at wikitable sortable class-type\n",
    "postal_table = soup.find(class_=\"wikitable sortable\")\n",
    "\n",
    "# building the initial dataframe from table's contents \n",
    "table_rows = postal_table.find_all('tr')\n",
    "row_values = []\n",
    "for tr in table_rows:\n",
    "    td = tr.find_all('td')\n",
    "    row_text = [tr.text.strip() for tr in td if tr.text.strip()]\n",
    "    if row_text:\n",
    "        row_values.append(row_text)\n",
    "\n",
    "toronto_df = pd.DataFrame(row_values, columns=[\"PostalCode\", \"Borough\", \"Neighborhood\"])\n",
    "#toronto_df.head(10)\n",
    "toronto_df.shape\n"
   ]
  },
  {
   "cell_type": "markdown",
   "metadata": {},
   "source": [
    "##### Cleaning the dataframe (dropping, combining, and truncating multiple cells)"
   ]
  },
  {
   "cell_type": "code",
   "execution_count": 4,
   "metadata": {},
   "outputs": [
    {
     "name": "stderr",
     "output_type": "stream",
     "text": [
      "/Library/Frameworks/Python.framework/Versions/3.7/lib/python3.7/site-packages/pandas/core/generic.py:6586: SettingWithCopyWarning: \n",
      "A value is trying to be set on a copy of a slice from a DataFrame\n",
      "\n",
      "See the caveats in the documentation: http://pandas.pydata.org/pandas-docs/stable/indexing.html#indexing-view-versus-copy\n",
      "  self._update_inplace(new_data)\n"
     ]
    },
    {
     "data": {
      "text/html": [
       "<div>\n",
       "<style scoped>\n",
       "    .dataframe tbody tr th:only-of-type {\n",
       "        vertical-align: middle;\n",
       "    }\n",
       "\n",
       "    .dataframe tbody tr th {\n",
       "        vertical-align: top;\n",
       "    }\n",
       "\n",
       "    .dataframe thead th {\n",
       "        text-align: right;\n",
       "    }\n",
       "</style>\n",
       "<table border=\"1\" class=\"dataframe\">\n",
       "  <thead>\n",
       "    <tr style=\"text-align: right;\">\n",
       "      <th></th>\n",
       "      <th>PostalCode</th>\n",
       "      <th>Borough</th>\n",
       "      <th>Neighborhood</th>\n",
       "    </tr>\n",
       "  </thead>\n",
       "  <tbody>\n",
       "    <tr>\n",
       "      <th>0</th>\n",
       "      <td>M1B</td>\n",
       "      <td>Scarborough</td>\n",
       "      <td>Rouge, Malvern</td>\n",
       "    </tr>\n",
       "    <tr>\n",
       "      <th>1</th>\n",
       "      <td>M1C</td>\n",
       "      <td>Scarborough</td>\n",
       "      <td>Highland Creek, Rouge Hill, Port Union</td>\n",
       "    </tr>\n",
       "    <tr>\n",
       "      <th>2</th>\n",
       "      <td>M1E</td>\n",
       "      <td>Scarborough</td>\n",
       "      <td>Guildwood, Morningside, West Hill</td>\n",
       "    </tr>\n",
       "    <tr>\n",
       "      <th>3</th>\n",
       "      <td>M1G</td>\n",
       "      <td>Scarborough</td>\n",
       "      <td>Woburn</td>\n",
       "    </tr>\n",
       "    <tr>\n",
       "      <th>4</th>\n",
       "      <td>M1H</td>\n",
       "      <td>Scarborough</td>\n",
       "      <td>Cedarbrae</td>\n",
       "    </tr>\n",
       "    <tr>\n",
       "      <th>5</th>\n",
       "      <td>M1J</td>\n",
       "      <td>Scarborough</td>\n",
       "      <td>Scarborough Village</td>\n",
       "    </tr>\n",
       "    <tr>\n",
       "      <th>6</th>\n",
       "      <td>M1K</td>\n",
       "      <td>Scarborough</td>\n",
       "      <td>East Birchmount Park, Ionview, Kennedy Park</td>\n",
       "    </tr>\n",
       "    <tr>\n",
       "      <th>7</th>\n",
       "      <td>M1L</td>\n",
       "      <td>Scarborough</td>\n",
       "      <td>Clairlea, Golden Mile, Oakridge</td>\n",
       "    </tr>\n",
       "    <tr>\n",
       "      <th>8</th>\n",
       "      <td>M1M</td>\n",
       "      <td>Scarborough</td>\n",
       "      <td>Cliffcrest, Cliffside, Scarborough Village West</td>\n",
       "    </tr>\n",
       "    <tr>\n",
       "      <th>9</th>\n",
       "      <td>M1N</td>\n",
       "      <td>Scarborough</td>\n",
       "      <td>Birch Cliff, Cliffside West</td>\n",
       "    </tr>\n",
       "  </tbody>\n",
       "</table>\n",
       "</div>"
      ],
      "text/plain": [
       "  PostalCode      Borough                                     Neighborhood\n",
       "0        M1B  Scarborough                                   Rouge, Malvern\n",
       "1        M1C  Scarborough           Highland Creek, Rouge Hill, Port Union\n",
       "2        M1E  Scarborough                Guildwood, Morningside, West Hill\n",
       "3        M1G  Scarborough                                           Woburn\n",
       "4        M1H  Scarborough                                        Cedarbrae\n",
       "5        M1J  Scarborough                              Scarborough Village\n",
       "6        M1K  Scarborough      East Birchmount Park, Ionview, Kennedy Park\n",
       "7        M1L  Scarborough                  Clairlea, Golden Mile, Oakridge\n",
       "8        M1M  Scarborough  Cliffcrest, Cliffside, Scarborough Village West\n",
       "9        M1N  Scarborough                      Birch Cliff, Cliffside West"
      ]
     },
     "execution_count": 4,
     "metadata": {},
     "output_type": "execute_result"
    }
   ],
   "source": [
    "# ignoring cells with a Borough that is Not assigned.\n",
    "borough_df = toronto_df[toronto_df.Borough != 'Not assigned']\n",
    "\n",
    "# replacing 'Not assigned' neighborhood value with the corresponding Borough value\n",
    "borough_df['Neighborhood'].replace('Not assigned', \"Queen's Park\", inplace=True)\n",
    "\n",
    "\n",
    "# combining neighborhoods with the same PostalCode into single row \n",
    "combined_df = borough_df.groupby(['PostalCode', 'Borough'])['Neighborhood'].apply(', '.join).reset_index(drop=False)\n",
    "\n",
    "# combined_df.head(10)\n",
    "combined_df.shape\n"
   ]
  },
  {
   "cell_type": "markdown",
   "metadata": {},
   "source": [
    "##### Getting the latitude and longitude coordinates of each neighborhood to utilize the Foursquare location data"
   ]
  },
  {
   "cell_type": "code",
   "execution_count": 5,
   "metadata": {},
   "outputs": [
    {
     "data": {
      "text/html": [
       "<div>\n",
       "<style scoped>\n",
       "    .dataframe tbody tr th:only-of-type {\n",
       "        vertical-align: middle;\n",
       "    }\n",
       "\n",
       "    .dataframe tbody tr th {\n",
       "        vertical-align: top;\n",
       "    }\n",
       "\n",
       "    .dataframe thead th {\n",
       "        text-align: right;\n",
       "    }\n",
       "</style>\n",
       "<table border=\"1\" class=\"dataframe\">\n",
       "  <thead>\n",
       "    <tr style=\"text-align: right;\">\n",
       "      <th></th>\n",
       "      <th>PostalCode</th>\n",
       "      <th>Borough</th>\n",
       "      <th>Neighborhood</th>\n",
       "      <th>Latitude</th>\n",
       "      <th>Longitude</th>\n",
       "    </tr>\n",
       "  </thead>\n",
       "  <tbody>\n",
       "    <tr>\n",
       "      <th>0</th>\n",
       "      <td>M1B</td>\n",
       "      <td>Scarborough</td>\n",
       "      <td>Rouge, Malvern</td>\n",
       "      <td>43.806686</td>\n",
       "      <td>-79.194353</td>\n",
       "    </tr>\n",
       "    <tr>\n",
       "      <th>1</th>\n",
       "      <td>M1C</td>\n",
       "      <td>Scarborough</td>\n",
       "      <td>Highland Creek, Rouge Hill, Port Union</td>\n",
       "      <td>43.784535</td>\n",
       "      <td>-79.160497</td>\n",
       "    </tr>\n",
       "    <tr>\n",
       "      <th>2</th>\n",
       "      <td>M1E</td>\n",
       "      <td>Scarborough</td>\n",
       "      <td>Guildwood, Morningside, West Hill</td>\n",
       "      <td>43.763573</td>\n",
       "      <td>-79.188711</td>\n",
       "    </tr>\n",
       "    <tr>\n",
       "      <th>3</th>\n",
       "      <td>M1G</td>\n",
       "      <td>Scarborough</td>\n",
       "      <td>Woburn</td>\n",
       "      <td>43.770992</td>\n",
       "      <td>-79.216917</td>\n",
       "    </tr>\n",
       "    <tr>\n",
       "      <th>4</th>\n",
       "      <td>M1H</td>\n",
       "      <td>Scarborough</td>\n",
       "      <td>Cedarbrae</td>\n",
       "      <td>43.773136</td>\n",
       "      <td>-79.239476</td>\n",
       "    </tr>\n",
       "    <tr>\n",
       "      <th>5</th>\n",
       "      <td>M1J</td>\n",
       "      <td>Scarborough</td>\n",
       "      <td>Scarborough Village</td>\n",
       "      <td>43.744734</td>\n",
       "      <td>-79.239476</td>\n",
       "    </tr>\n",
       "    <tr>\n",
       "      <th>6</th>\n",
       "      <td>M1K</td>\n",
       "      <td>Scarborough</td>\n",
       "      <td>East Birchmount Park, Ionview, Kennedy Park</td>\n",
       "      <td>43.727929</td>\n",
       "      <td>-79.262029</td>\n",
       "    </tr>\n",
       "    <tr>\n",
       "      <th>7</th>\n",
       "      <td>M1L</td>\n",
       "      <td>Scarborough</td>\n",
       "      <td>Clairlea, Golden Mile, Oakridge</td>\n",
       "      <td>43.711112</td>\n",
       "      <td>-79.284577</td>\n",
       "    </tr>\n",
       "    <tr>\n",
       "      <th>8</th>\n",
       "      <td>M1M</td>\n",
       "      <td>Scarborough</td>\n",
       "      <td>Cliffcrest, Cliffside, Scarborough Village West</td>\n",
       "      <td>43.716316</td>\n",
       "      <td>-79.239476</td>\n",
       "    </tr>\n",
       "    <tr>\n",
       "      <th>9</th>\n",
       "      <td>M1N</td>\n",
       "      <td>Scarborough</td>\n",
       "      <td>Birch Cliff, Cliffside West</td>\n",
       "      <td>43.692657</td>\n",
       "      <td>-79.264848</td>\n",
       "    </tr>\n",
       "    <tr>\n",
       "      <th>10</th>\n",
       "      <td>M1P</td>\n",
       "      <td>Scarborough</td>\n",
       "      <td>Dorset Park, Scarborough Town Centre, Wexford ...</td>\n",
       "      <td>43.757410</td>\n",
       "      <td>-79.273304</td>\n",
       "    </tr>\n",
       "    <tr>\n",
       "      <th>11</th>\n",
       "      <td>M1R</td>\n",
       "      <td>Scarborough</td>\n",
       "      <td>Maryvale, Wexford</td>\n",
       "      <td>43.750072</td>\n",
       "      <td>-79.295849</td>\n",
       "    </tr>\n",
       "    <tr>\n",
       "      <th>12</th>\n",
       "      <td>M1S</td>\n",
       "      <td>Scarborough</td>\n",
       "      <td>Agincourt</td>\n",
       "      <td>43.794200</td>\n",
       "      <td>-79.262029</td>\n",
       "    </tr>\n",
       "    <tr>\n",
       "      <th>13</th>\n",
       "      <td>M1T</td>\n",
       "      <td>Scarborough</td>\n",
       "      <td>Clarks Corners, Sullivan, Tam O'Shanter</td>\n",
       "      <td>43.781638</td>\n",
       "      <td>-79.304302</td>\n",
       "    </tr>\n",
       "    <tr>\n",
       "      <th>14</th>\n",
       "      <td>M1V</td>\n",
       "      <td>Scarborough</td>\n",
       "      <td>Agincourt North, L'Amoreaux East, Milliken, St...</td>\n",
       "      <td>43.815252</td>\n",
       "      <td>-79.284577</td>\n",
       "    </tr>\n",
       "    <tr>\n",
       "      <th>15</th>\n",
       "      <td>M1W</td>\n",
       "      <td>Scarborough</td>\n",
       "      <td>L'Amoreaux West</td>\n",
       "      <td>43.799525</td>\n",
       "      <td>-79.318389</td>\n",
       "    </tr>\n",
       "    <tr>\n",
       "      <th>16</th>\n",
       "      <td>M1X</td>\n",
       "      <td>Scarborough</td>\n",
       "      <td>Upper Rouge</td>\n",
       "      <td>43.836125</td>\n",
       "      <td>-79.205636</td>\n",
       "    </tr>\n",
       "    <tr>\n",
       "      <th>17</th>\n",
       "      <td>M2H</td>\n",
       "      <td>North York</td>\n",
       "      <td>Hillcrest Village</td>\n",
       "      <td>43.803762</td>\n",
       "      <td>-79.363452</td>\n",
       "    </tr>\n",
       "    <tr>\n",
       "      <th>18</th>\n",
       "      <td>M2J</td>\n",
       "      <td>North York</td>\n",
       "      <td>Fairview, Henry Farm, Oriole</td>\n",
       "      <td>43.778517</td>\n",
       "      <td>-79.346556</td>\n",
       "    </tr>\n",
       "    <tr>\n",
       "      <th>19</th>\n",
       "      <td>M2K</td>\n",
       "      <td>North York</td>\n",
       "      <td>Bayview Village</td>\n",
       "      <td>43.786947</td>\n",
       "      <td>-79.385975</td>\n",
       "    </tr>\n",
       "  </tbody>\n",
       "</table>\n",
       "</div>"
      ],
      "text/plain": [
       "   PostalCode      Borough                                       Neighborhood  \\\n",
       "0         M1B  Scarborough                                     Rouge, Malvern   \n",
       "1         M1C  Scarborough             Highland Creek, Rouge Hill, Port Union   \n",
       "2         M1E  Scarborough                  Guildwood, Morningside, West Hill   \n",
       "3         M1G  Scarborough                                             Woburn   \n",
       "4         M1H  Scarborough                                          Cedarbrae   \n",
       "5         M1J  Scarborough                                Scarborough Village   \n",
       "6         M1K  Scarborough        East Birchmount Park, Ionview, Kennedy Park   \n",
       "7         M1L  Scarborough                    Clairlea, Golden Mile, Oakridge   \n",
       "8         M1M  Scarborough    Cliffcrest, Cliffside, Scarborough Village West   \n",
       "9         M1N  Scarborough                        Birch Cliff, Cliffside West   \n",
       "10        M1P  Scarborough  Dorset Park, Scarborough Town Centre, Wexford ...   \n",
       "11        M1R  Scarborough                                  Maryvale, Wexford   \n",
       "12        M1S  Scarborough                                          Agincourt   \n",
       "13        M1T  Scarborough            Clarks Corners, Sullivan, Tam O'Shanter   \n",
       "14        M1V  Scarborough  Agincourt North, L'Amoreaux East, Milliken, St...   \n",
       "15        M1W  Scarborough                                    L'Amoreaux West   \n",
       "16        M1X  Scarborough                                        Upper Rouge   \n",
       "17        M2H   North York                                  Hillcrest Village   \n",
       "18        M2J   North York                       Fairview, Henry Farm, Oriole   \n",
       "19        M2K   North York                                    Bayview Village   \n",
       "\n",
       "     Latitude  Longitude  \n",
       "0   43.806686 -79.194353  \n",
       "1   43.784535 -79.160497  \n",
       "2   43.763573 -79.188711  \n",
       "3   43.770992 -79.216917  \n",
       "4   43.773136 -79.239476  \n",
       "5   43.744734 -79.239476  \n",
       "6   43.727929 -79.262029  \n",
       "7   43.711112 -79.284577  \n",
       "8   43.716316 -79.239476  \n",
       "9   43.692657 -79.264848  \n",
       "10  43.757410 -79.273304  \n",
       "11  43.750072 -79.295849  \n",
       "12  43.794200 -79.262029  \n",
       "13  43.781638 -79.304302  \n",
       "14  43.815252 -79.284577  \n",
       "15  43.799525 -79.318389  \n",
       "16  43.836125 -79.205636  \n",
       "17  43.803762 -79.363452  \n",
       "18  43.778517 -79.346556  \n",
       "19  43.786947 -79.385975  "
      ]
     },
     "execution_count": 5,
     "metadata": {},
     "output_type": "execute_result"
    }
   ],
   "source": [
    "# geocoder seems to be very unreliable, so we can use the link to the csv file to get latitude and longitude\n",
    "url = 'http://cocl.us/Geospatial_data'\n",
    "lat_long_df = pd.read_csv(url)\n",
    "\n",
    "# since the latitude-longitude table has the same data ordered as of combined_df, we can just create a new dataframe\n",
    "# with the required columns\n",
    "detailed_df = pd.DataFrame({'PostalCode':combined_df['PostalCode'], \n",
    "                            'Borough':combined_df['Borough'], \n",
    "                            'Neighborhood':combined_df['Neighborhood'], \n",
    "                            'Latitude':lat_long_df['Latitude'], \n",
    "                            'Longitude':lat_long_df['Longitude']})\n",
    "\n",
    "\n",
    "# detailed_df.head(20)\n",
    "detailed_df.shape\n"
   ]
  },
  {
   "cell_type": "code",
   "execution_count": 9,
   "metadata": {},
   "outputs": [
    {
     "name": "stdout",
     "output_type": "stream",
     "text": [
      "This dataframe has 11 boroughs and 103 neighborhoods.\n"
     ]
    }
   ],
   "source": [
    "# counting the number of Boroughs and neighborhoods\n",
    "print('This dataframe has {} boroughs and {} neighborhoods.'.format(len(detailed_df['Borough'].unique()), len(detailed_df['Neighborhood'].unique())))"
   ]
  },
  {
   "cell_type": "markdown",
   "metadata": {},
   "source": [
    "##### Cluster analysis of the neighborhoods in Toronto using Foursquare API"
   ]
  },
  {
   "cell_type": "markdown",
   "metadata": {},
   "source": [
    "Toronto neighborhood has a total of 11 boroughs and 100+ neighborhoods. It will become a tedious task to analyse all 11 boroughs, so we will work on boroughs that has the word 'Toronto' in them. There are totally 4 boroughs that has 'toronto' in their name: \"Downtown Toronto\", \"Central Toronto\", \"West Toronto\", and \"East Toronto\"."
   ]
  },
  {
   "cell_type": "code",
   "execution_count": 61,
   "metadata": {
    "scrolled": true
   },
   "outputs": [
    {
     "name": "stdout",
     "output_type": "stream",
     "text": [
      "There are 18 postal codes in Downtown Toronto.\n",
      "There are 9 postal codes in Central Toronto.\n",
      "There are 6 postal codes in West Toronto.\n",
      "There are 5 postal codes in East Toronto.\n"
     ]
    }
   ],
   "source": [
    "# Analysing number of postal codes in each of the Boroughs that ends with the word 'Toronto'\n",
    "borough_list = ['Downtown Toronto', 'Central Toronto', 'West Toronto', 'East Toronto']\n",
    "for bor in borough_list:\n",
    "    print(\"There are {} postal codes in {}.\".format(detailed_df.PostalCode[detailed_df.Borough == bor].count(), bor))\n"
   ]
  },
  {
   "cell_type": "code",
   "execution_count": 120,
   "metadata": {},
   "outputs": [
    {
     "data": {
      "text/plain": [
       "(38, 5)"
      ]
     },
     "execution_count": 120,
     "metadata": {},
     "output_type": "execute_result"
    }
   ],
   "source": [
    "# Creating a new dataframe for cluster analysis of 'Toronto' Boroughs\n",
    "d_t = detailed_df[detailed_df['Borough'] == 'Downtown Toronto']\n",
    "c_t = detailed_df[detailed_df['Borough'] == 'Central Toronto']\n",
    "w_t = detailed_df[detailed_df['Borough'] == 'West Toronto']\n",
    "e_t = detailed_df[detailed_df['Borough'] == 'East Toronto']\n",
    "\n",
    "combined = pd.concat([d_t, c_t, w_t, e_t], sort=False)\n",
    "toronto_df = combined.reset_index(drop=True)\n",
    "\n",
    "# toronto_df.head()\n",
    "toronto_df.shape"
   ]
  },
  {
   "cell_type": "code",
   "execution_count": 121,
   "metadata": {},
   "outputs": [
    {
     "name": "stdout",
     "output_type": "stream",
     "text": [
      "Coordinates of Toronto are 43.653963, -79.387207. \n"
     ]
    }
   ],
   "source": [
    "# Using geopy to get the latitude and longitude values of Toronto\n",
    "address = 'Toronto, Ontario'\n",
    "geolocator = Nominatim(user_agent=\"toronto_explorer\")\n",
    "location = geolocator.geocode(address)\n",
    "latitude = location.latitude\n",
    "longitude = location.longitude\n",
    "print('Coordinates of Toronto are {}, {}. '.format(latitude, longitude))"
   ]
  },
  {
   "cell_type": "markdown",
   "metadata": {},
   "source": [
    "##### Creating a map of Toronto with neighborhoods superimposed on Top"
   ]
  },
  {
   "cell_type": "code",
   "execution_count": 122,
   "metadata": {
    "scrolled": true
   },
   "outputs": [
    {
     "data": {
      "text/html": [
       "<div style=\"width:100%;\"><div style=\"position:relative;width:100%;height:0;padding-bottom:60%;\"><iframe src=\"data:text/html;charset=utf-8;base64,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\" style=\"position:absolute;width:100%;height:100%;left:0;top:0;border:none !important;\" allowfullscreen webkitallowfullscreen mozallowfullscreen></iframe></div></div>"
      ],
      "text/plain": [
       "<folium.folium.Map at 0x122d30978>"
      ]
     },
     "execution_count": 122,
     "metadata": {},
     "output_type": "execute_result"
    }
   ],
   "source": [
    "# creating a map of toronto using latitude and longitude values\n",
    "map_toronto = folium.Map(location=[latitude, longitude], zoom_start=11)\n",
    "\n",
    "# adding markers\n",
    "for lat, lng, borough, neighborhood in zip(toronto_df['Latitude'], toronto_df['Longitude'], toronto_df['Borough'], toronto_df['Neighborhood']):\n",
    "    label = '{}, {}'.format(neighborhood, borough)\n",
    "    label = folium.Popup(label, parse_html=True)\n",
    "    folium.CircleMarker(\n",
    "        [lat, lng],\n",
    "        radius=5,\n",
    "        popup=label,\n",
    "        color='blue',\n",
    "        fill=True,\n",
    "        fill_color='#3186cc',\n",
    "        fill_opacity=0.5,\n",
    "        parse_html=False).add_to(map_toronto)\n",
    "\n",
    "# displaying toronto map with 4 boroughs and it's neighborhoods\n",
    "map_toronto"
   ]
  },
  {
   "cell_type": "markdown",
   "metadata": {},
   "source": [
    "The above map shows 4 different Boroughs (\"Downtown Toronto\", \"Central Toronto\", \"West Toronto\", and \"East Toronto\") with it's associated neighborhoods."
   ]
  },
  {
   "cell_type": "markdown",
   "metadata": {},
   "source": [
    "##### Using Foursquare APIs to explore first neighborhood in toronto_df"
   ]
  },
  {
   "cell_type": "code",
   "execution_count": 123,
   "metadata": {},
   "outputs": [],
   "source": [
    "# defining foursquare credentials\n",
    "client_id = 'PEQPJEZXPG4HRTFTMTZHL3P3QRZ1SV55525PX2YO22F3Q0JB'\n",
    "client_secret = 'JEDPFGTRY4SISHI1S2W3RTQGIG3UUROA5OG4I3NW4UXBBLB1'\n",
    "version = '20180605'"
   ]
  },
  {
   "cell_type": "code",
   "execution_count": 124,
   "metadata": {},
   "outputs": [
    {
     "data": {
      "text/plain": [
       "'Rosedale'"
      ]
     },
     "execution_count": 124,
     "metadata": {},
     "output_type": "execute_result"
    }
   ],
   "source": [
    "# exploring first neighborhoods in our toronto_df dataframe\n",
    "toronto_df.loc[0, 'Neighborhood']"
   ]
  },
  {
   "cell_type": "code",
   "execution_count": 127,
   "metadata": {},
   "outputs": [
    {
     "name": "stdout",
     "output_type": "stream",
     "text": [
      "Rosedale's latitude and longitude values are 43.6795626, -79.37752940000001.\n"
     ]
    }
   ],
   "source": [
    "# getting first neighborhoods latitude and longitude value\n",
    "rosedale_latitude = toronto_df.loc[0, 'Latitude']\n",
    "rosedale_longitude = toronto_df.loc[0, 'Longitude']\n",
    "print('Rosedale\\'s latitude and longitude values are {}, {}.'.format(rosedale_latitude, rosedale_longitude))\n"
   ]
  },
  {
   "cell_type": "code",
   "execution_count": 130,
   "metadata": {},
   "outputs": [
    {
     "data": {
      "text/plain": [
       "'https://api.foursquare.com/v2/venues/explore?&client_id=PEQPJEZXPG4HRTFTMTZHL3P3QRZ1SV55525PX2YO22F3Q0JB&client_secret=JEDPFGTRY4SISHI1S2W3RTQGIG3UUROA5OG4I3NW4UXBBLB1&v=20180605&ll=43.6795626,-79.37752940000001&radius=500&limit=100'"
      ]
     },
     "execution_count": 130,
     "metadata": {},
     "output_type": "execute_result"
    }
   ],
   "source": [
    "# getting top 100 venues that are in Rosedale within a radius of 500 radius\n",
    "no_of_venues = 100\n",
    "radius = 500\n",
    "url = 'https://api.foursquare.com/v2/venues/explore?&client_id={}&client_secret={}&v={}&ll={},{}&radius={}&limit={}'.format(client_id, client_secret, version, rosedale_latitude, rosedale_longitude, radius, no_of_venues)\n",
    "url\n"
   ]
  },
  {
   "cell_type": "code",
   "execution_count": null,
   "metadata": {},
   "outputs": [],
   "source": []
  }
 ],
 "metadata": {
  "kernelspec": {
   "display_name": "Python 3",
   "language": "python",
   "name": "python3"
  },
  "language_info": {
   "codemirror_mode": {
    "name": "ipython",
    "version": 3
   },
   "file_extension": ".py",
   "mimetype": "text/x-python",
   "name": "python",
   "nbconvert_exporter": "python",
   "pygments_lexer": "ipython3",
   "version": "3.7.2"
  }
 },
 "nbformat": 4,
 "nbformat_minor": 2
}
