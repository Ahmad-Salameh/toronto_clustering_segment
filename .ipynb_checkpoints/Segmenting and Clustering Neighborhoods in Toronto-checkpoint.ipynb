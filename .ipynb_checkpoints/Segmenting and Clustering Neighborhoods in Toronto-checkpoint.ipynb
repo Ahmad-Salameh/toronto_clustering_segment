{
 "cells": [
  {
   "cell_type": "markdown",
   "metadata": {},
   "source": [
    "#### This project will explore, segment, and cluster the neighborhoods in the city of Toronto"
   ]
  },
  {
   "cell_type": "markdown",
   "metadata": {},
   "source": [
    "##### Importing required libraries"
   ]
  },
  {
   "cell_type": "code",
   "execution_count": 96,
   "metadata": {},
   "outputs": [],
   "source": [
    "import pandas as pd\n",
    "import numpy as np\n",
    "import urllib.request\n",
    "import requests\n",
    "import time\n",
    "from bs4 import BeautifulSoup"
   ]
  },
  {
   "cell_type": "markdown",
   "metadata": {},
   "source": [
    "##### Getting the contents of the website with 'requests' library"
   ]
  },
  {
   "cell_type": "code",
   "execution_count": 97,
   "metadata": {},
   "outputs": [
    {
     "data": {
      "text/plain": [
       "<Response [200]>"
      ]
     },
     "execution_count": 97,
     "metadata": {},
     "output_type": "execute_result"
    }
   ],
   "source": [
    "url = 'https://en.wikipedia.org/wiki/List_of_postal_codes_of_Canada:_M'\n",
    "response = requests.get(url)\n",
    "response"
   ]
  },
  {
   "cell_type": "markdown",
   "metadata": {},
   "source": [
    "##### Scraping the contents from html using BeautifulSoup and building an initial Pandas dataframe"
   ]
  },
  {
   "cell_type": "code",
   "execution_count": 98,
   "metadata": {
    "scrolled": false
   },
   "outputs": [
    {
     "data": {
      "text/plain": [
       "(288, 3)"
      ]
     },
     "execution_count": 98,
     "metadata": {},
     "output_type": "execute_result"
    }
   ],
   "source": [
    "# instantiating the soup object with response text, and html.parser option\n",
    "soup = BeautifulSoup(response.text, \"html.parser\")\n",
    "\n",
    "# parsing the table part of the response by looking at wikitable sortable class-type\n",
    "postal_table = soup.find(class_=\"wikitable sortable\")\n",
    "\n",
    "# building the initial dataframe from table's contents \n",
    "table_rows = postal_table.find_all('tr')\n",
    "row_values = []\n",
    "for tr in table_rows:\n",
    "    td = tr.find_all('td')\n",
    "    row_text = [tr.text.strip() for tr in td if tr.text.strip()]\n",
    "    if row_text:\n",
    "        row_values.append(row_text)\n",
    "\n",
    "toronto_df = pd.DataFrame(row_values, columns=[\"PostalCode\", \"Borough\", \"Neighborhood\"])\n",
    "toronto_df.head(10)\n",
    "toronto_df.shape\n"
   ]
  },
  {
   "cell_type": "markdown",
   "metadata": {},
   "source": [
    "##### Cleaning the dataframe (dropping, combining, and truncating multiple cells)"
   ]
  },
  {
   "cell_type": "code",
   "execution_count": 110,
   "metadata": {},
   "outputs": [
    {
     "data": {
      "text/plain": [
       "(211, 3)"
      ]
     },
     "execution_count": 110,
     "metadata": {},
     "output_type": "execute_result"
    }
   ],
   "source": [
    "# ignoring cells with a Borough that is Not assigned.\n",
    "toronto_df = toronto_df[toronto_df.Borough != 'Not assigned']\n",
    "toronto_df.head(10)\n",
    "toronto_df.shape\n",
    "\n",
    "# combining neighborhoods with the same PostalCode into single row \n",
    "toronto_df.groupby('PostalCode')['Neighborhood'].apply(', '.join).reset_index()\n",
    "toronto_df.head(10)\n",
    "toronto_df.shape\n",
    "\n",
    "# replacing 'not assigned' neighborhood with the value of Borough\n",
    "toronto_df.Neighborhood[toronto_df.Neighborhood == 'Not assigned'] = toronto_df.Borough\n",
    "toronto_df.head(10)\n",
    "toronto_df.shape\n"
   ]
  },
  {
   "cell_type": "code",
   "execution_count": null,
   "metadata": {},
   "outputs": [],
   "source": []
  },
  {
   "cell_type": "code",
   "execution_count": null,
   "metadata": {},
   "outputs": [],
   "source": []
  }
 ],
 "metadata": {
  "kernelspec": {
   "display_name": "Python 3",
   "language": "python",
   "name": "python3"
  },
  "language_info": {
   "codemirror_mode": {
    "name": "ipython",
    "version": 3
   },
   "file_extension": ".py",
   "mimetype": "text/x-python",
   "name": "python",
   "nbconvert_exporter": "python",
   "pygments_lexer": "ipython3",
   "version": "3.7.2"
  }
 },
 "nbformat": 4,
 "nbformat_minor": 2
}
