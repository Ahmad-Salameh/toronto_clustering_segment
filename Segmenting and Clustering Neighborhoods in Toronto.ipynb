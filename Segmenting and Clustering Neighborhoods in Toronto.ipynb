{
 "cells": [
  {
   "cell_type": "markdown",
   "metadata": {},
   "source": [
    "#### This project will explore, segment, and cluster the neighborhoods in the city of Toronto"
   ]
  },
  {
   "cell_type": "markdown",
   "metadata": {},
   "source": [
    "##### Importing required libraries"
   ]
  },
  {
   "cell_type": "code",
   "execution_count": 3,
   "metadata": {},
   "outputs": [],
   "source": [
    "import pandas as pd\n",
    "import numpy as np\n",
    "import urllib.request\n",
    "import requests\n",
    "import time\n",
    "import geocoder\n",
    "from bs4 import BeautifulSoup\n",
    "import ssl\n",
    "import json\n",
    "from geopy.geocoders import Nominatim\n",
    "from pandas.io.json import json_normalize\n",
    "import matplotlib.cm as cm\n",
    "import matplotlib.colors as colors\n",
    "from sklearn.cluster import KMeans\n",
    "import folium\n",
    "\n",
    "ssl._create_default_https_context = ssl._create_unverified_context"
   ]
  },
  {
   "cell_type": "markdown",
   "metadata": {},
   "source": [
    "##### Getting the contents of the website with 'requests' library"
   ]
  },
  {
   "cell_type": "code",
   "execution_count": 4,
   "metadata": {},
   "outputs": [
    {
     "data": {
      "text/plain": [
       "<Response [200]>"
      ]
     },
     "execution_count": 4,
     "metadata": {},
     "output_type": "execute_result"
    }
   ],
   "source": [
    "url = 'https://en.wikipedia.org/wiki/List_of_postal_codes_of_Canada:_M'\n",
    "response = requests.get(url)\n",
    "response"
   ]
  },
  {
   "cell_type": "markdown",
   "metadata": {},
   "source": [
    "##### Scraping the contents from html using BeautifulSoup and building an initial Pandas dataframe"
   ]
  },
  {
   "cell_type": "code",
   "execution_count": 13,
   "metadata": {
    "scrolled": false
   },
   "outputs": [
    {
     "data": {
      "text/plain": [
       "(288, 3)"
      ]
     },
     "execution_count": 13,
     "metadata": {},
     "output_type": "execute_result"
    }
   ],
   "source": [
    "# instantiating the soup object with response text, and html.parser option\n",
    "soup = BeautifulSoup(response.text, \"html.parser\")\n",
    "\n",
    "# parsing the table part of the response by looking at wikitable sortable class-type\n",
    "postal_table = soup.find(class_=\"wikitable sortable\")\n",
    "\n",
    "# building the initial dataframe from table's contents \n",
    "table_rows = postal_table.find_all('tr')\n",
    "row_values = []\n",
    "for tr in table_rows:\n",
    "    td = tr.find_all('td')\n",
    "    row_text = [tr.text.strip() for tr in td if tr.text.strip()]\n",
    "    if row_text:\n",
    "        row_values.append(row_text)\n",
    "\n",
    "toronto_df = pd.DataFrame(row_values, columns=[\"PostalCode\", \"Borough\", \"Neighborhood\"])\n",
    "# toronto_df.head(10)\n",
    "toronto_df.shape\n"
   ]
  },
  {
   "cell_type": "markdown",
   "metadata": {},
   "source": [
    "##### Cleaning the dataframe (dropping, combining, and truncating multiple cells)"
   ]
  },
  {
   "cell_type": "code",
   "execution_count": 17,
   "metadata": {},
   "outputs": [
    {
     "data": {
      "text/plain": [
       "(103, 3)"
      ]
     },
     "execution_count": 17,
     "metadata": {},
     "output_type": "execute_result"
    }
   ],
   "source": [
    "# ignoring cells with a Borough that is Not assigned.\n",
    "borough_df = toronto_df[toronto_df.Borough != 'Not assigned']\n",
    "\n",
    "# replacing 'Not assigned' neighborhood value with the corresponding Borough value\n",
    "borough_df['Neighborhood'].replace('Not assigned', \"Queen's Park\", inplace=True)\n",
    "\n",
    "\n",
    "# combining neighborhoods with the same PostalCode into single row \n",
    "combined_df = borough_df.groupby(['PostalCode', 'Borough'])['Neighborhood'].apply(', '.join).reset_index(drop=False)\n",
    "\n",
    "# combined_df.head(10)\n",
    "combined_df.shape\n"
   ]
  },
  {
   "cell_type": "markdown",
   "metadata": {},
   "source": [
    "##### Getting the latitude and longitude coordinates of each neighborhood to utilize the Foursquare location data"
   ]
  },
  {
   "cell_type": "code",
   "execution_count": 18,
   "metadata": {},
   "outputs": [
    {
     "data": {
      "text/plain": [
       "(103, 5)"
      ]
     },
     "execution_count": 18,
     "metadata": {},
     "output_type": "execute_result"
    }
   ],
   "source": [
    "# geocoder seems to be very unreliable, so we can use the link to the csv file to get latitude and longitude\n",
    "url = 'http://cocl.us/Geospatial_data'\n",
    "lat_long_df = pd.read_csv(url)\n",
    "\n",
    "# since the latitude-longitude table has the same data ordered as of combined_df, we can just create a new dataframe\n",
    "# with the required columns\n",
    "detailed_df = pd.DataFrame({'PostalCode':combined_df['PostalCode'], \n",
    "                            'Borough':combined_df['Borough'], \n",
    "                            'Neighborhood':combined_df['Neighborhood'], \n",
    "                            'Latitude':lat_long_df['Latitude'], \n",
    "                            'Longitude':lat_long_df['Longitude']})\n",
    "\n",
    "\n",
    "# detailed_df.head(20)\n",
    "detailed_df.shape\n"
   ]
  },
  {
   "cell_type": "markdown",
   "metadata": {},
   "source": [
    "##### Cluster analysis of the neighborhoods in Toronto using Foursquare API"
   ]
  },
  {
   "cell_type": "markdown",
   "metadata": {},
   "source": [
    "Toronto neighborhood has a total of 11 boroughs and 211 neighborhoods. It will become a tedious task to analyse all 11 boroughs, so we will work on boroughs that has the word 'Toronto' in them. There are totally 4 boroughs that has 'toronto' in their name: \"Downtown Toronto\", \"Central Toronto\", \"West Toronto\", and \"East Toronto\"."
   ]
  },
  {
   "cell_type": "code",
   "execution_count": 48,
   "metadata": {
    "scrolled": true
   },
   "outputs": [
    {
     "data": {
      "text/html": [
       "<div>\n",
       "<style scoped>\n",
       "    .dataframe tbody tr th:only-of-type {\n",
       "        vertical-align: middle;\n",
       "    }\n",
       "\n",
       "    .dataframe tbody tr th {\n",
       "        vertical-align: top;\n",
       "    }\n",
       "\n",
       "    .dataframe thead th {\n",
       "        text-align: right;\n",
       "    }\n",
       "</style>\n",
       "<table border=\"1\" class=\"dataframe\">\n",
       "  <thead>\n",
       "    <tr style=\"text-align: right;\">\n",
       "      <th></th>\n",
       "      <th>PostalCode</th>\n",
       "      <th>Borough</th>\n",
       "      <th>Neighborhood</th>\n",
       "      <th>Latitude</th>\n",
       "      <th>Longitude</th>\n",
       "    </tr>\n",
       "  </thead>\n",
       "  <tbody>\n",
       "    <tr>\n",
       "      <th>50</th>\n",
       "      <td>M4W</td>\n",
       "      <td>Downtown Toronto</td>\n",
       "      <td>Rosedale</td>\n",
       "      <td>43.679563</td>\n",
       "      <td>-79.377529</td>\n",
       "    </tr>\n",
       "    <tr>\n",
       "      <th>51</th>\n",
       "      <td>M4X</td>\n",
       "      <td>Downtown Toronto</td>\n",
       "      <td>Cabbagetown, St. James Town</td>\n",
       "      <td>43.667967</td>\n",
       "      <td>-79.367675</td>\n",
       "    </tr>\n",
       "    <tr>\n",
       "      <th>52</th>\n",
       "      <td>M4Y</td>\n",
       "      <td>Downtown Toronto</td>\n",
       "      <td>Church and Wellesley</td>\n",
       "      <td>43.665860</td>\n",
       "      <td>-79.383160</td>\n",
       "    </tr>\n",
       "    <tr>\n",
       "      <th>53</th>\n",
       "      <td>M5A</td>\n",
       "      <td>Downtown Toronto</td>\n",
       "      <td>Harbourfront, Regent Park</td>\n",
       "      <td>43.654260</td>\n",
       "      <td>-79.360636</td>\n",
       "    </tr>\n",
       "    <tr>\n",
       "      <th>54</th>\n",
       "      <td>M5B</td>\n",
       "      <td>Downtown Toronto</td>\n",
       "      <td>Ryerson, Garden District</td>\n",
       "      <td>43.657162</td>\n",
       "      <td>-79.378937</td>\n",
       "    </tr>\n",
       "    <tr>\n",
       "      <th>55</th>\n",
       "      <td>M5C</td>\n",
       "      <td>Downtown Toronto</td>\n",
       "      <td>St. James Town</td>\n",
       "      <td>43.651494</td>\n",
       "      <td>-79.375418</td>\n",
       "    </tr>\n",
       "    <tr>\n",
       "      <th>56</th>\n",
       "      <td>M5E</td>\n",
       "      <td>Downtown Toronto</td>\n",
       "      <td>Berczy Park</td>\n",
       "      <td>43.644771</td>\n",
       "      <td>-79.373306</td>\n",
       "    </tr>\n",
       "    <tr>\n",
       "      <th>57</th>\n",
       "      <td>M5G</td>\n",
       "      <td>Downtown Toronto</td>\n",
       "      <td>Central Bay Street</td>\n",
       "      <td>43.657952</td>\n",
       "      <td>-79.387383</td>\n",
       "    </tr>\n",
       "    <tr>\n",
       "      <th>58</th>\n",
       "      <td>M5H</td>\n",
       "      <td>Downtown Toronto</td>\n",
       "      <td>Adelaide, King, Richmond</td>\n",
       "      <td>43.650571</td>\n",
       "      <td>-79.384568</td>\n",
       "    </tr>\n",
       "    <tr>\n",
       "      <th>59</th>\n",
       "      <td>M5J</td>\n",
       "      <td>Downtown Toronto</td>\n",
       "      <td>Harbourfront East, Toronto Islands, Union Station</td>\n",
       "      <td>43.640816</td>\n",
       "      <td>-79.381752</td>\n",
       "    </tr>\n",
       "    <tr>\n",
       "      <th>60</th>\n",
       "      <td>M5K</td>\n",
       "      <td>Downtown Toronto</td>\n",
       "      <td>Design Exchange, Toronto Dominion Centre</td>\n",
       "      <td>43.647177</td>\n",
       "      <td>-79.381576</td>\n",
       "    </tr>\n",
       "    <tr>\n",
       "      <th>61</th>\n",
       "      <td>M5L</td>\n",
       "      <td>Downtown Toronto</td>\n",
       "      <td>Commerce Court, Victoria Hotel</td>\n",
       "      <td>43.648198</td>\n",
       "      <td>-79.379817</td>\n",
       "    </tr>\n",
       "    <tr>\n",
       "      <th>66</th>\n",
       "      <td>M5S</td>\n",
       "      <td>Downtown Toronto</td>\n",
       "      <td>Harbord, University of Toronto</td>\n",
       "      <td>43.662696</td>\n",
       "      <td>-79.400049</td>\n",
       "    </tr>\n",
       "    <tr>\n",
       "      <th>67</th>\n",
       "      <td>M5T</td>\n",
       "      <td>Downtown Toronto</td>\n",
       "      <td>Chinatown, Grange Park, Kensington Market</td>\n",
       "      <td>43.653206</td>\n",
       "      <td>-79.400049</td>\n",
       "    </tr>\n",
       "    <tr>\n",
       "      <th>68</th>\n",
       "      <td>M5V</td>\n",
       "      <td>Downtown Toronto</td>\n",
       "      <td>CN Tower, Bathurst Quay, Island airport, Harbo...</td>\n",
       "      <td>43.628947</td>\n",
       "      <td>-79.394420</td>\n",
       "    </tr>\n",
       "    <tr>\n",
       "      <th>69</th>\n",
       "      <td>M5W</td>\n",
       "      <td>Downtown Toronto</td>\n",
       "      <td>Stn A PO Boxes 25 The Esplanade</td>\n",
       "      <td>43.646435</td>\n",
       "      <td>-79.374846</td>\n",
       "    </tr>\n",
       "    <tr>\n",
       "      <th>70</th>\n",
       "      <td>M5X</td>\n",
       "      <td>Downtown Toronto</td>\n",
       "      <td>First Canadian Place, Underground city</td>\n",
       "      <td>43.648429</td>\n",
       "      <td>-79.382280</td>\n",
       "    </tr>\n",
       "    <tr>\n",
       "      <th>75</th>\n",
       "      <td>M6G</td>\n",
       "      <td>Downtown Toronto</td>\n",
       "      <td>Christie</td>\n",
       "      <td>43.669542</td>\n",
       "      <td>-79.422564</td>\n",
       "    </tr>\n",
       "  </tbody>\n",
       "</table>\n",
       "</div>"
      ],
      "text/plain": [
       "   PostalCode           Borough  \\\n",
       "50        M4W  Downtown Toronto   \n",
       "51        M4X  Downtown Toronto   \n",
       "52        M4Y  Downtown Toronto   \n",
       "53        M5A  Downtown Toronto   \n",
       "54        M5B  Downtown Toronto   \n",
       "55        M5C  Downtown Toronto   \n",
       "56        M5E  Downtown Toronto   \n",
       "57        M5G  Downtown Toronto   \n",
       "58        M5H  Downtown Toronto   \n",
       "59        M5J  Downtown Toronto   \n",
       "60        M5K  Downtown Toronto   \n",
       "61        M5L  Downtown Toronto   \n",
       "66        M5S  Downtown Toronto   \n",
       "67        M5T  Downtown Toronto   \n",
       "68        M5V  Downtown Toronto   \n",
       "69        M5W  Downtown Toronto   \n",
       "70        M5X  Downtown Toronto   \n",
       "75        M6G  Downtown Toronto   \n",
       "\n",
       "                                         Neighborhood   Latitude  Longitude  \n",
       "50                                           Rosedale  43.679563 -79.377529  \n",
       "51                        Cabbagetown, St. James Town  43.667967 -79.367675  \n",
       "52                               Church and Wellesley  43.665860 -79.383160  \n",
       "53                          Harbourfront, Regent Park  43.654260 -79.360636  \n",
       "54                           Ryerson, Garden District  43.657162 -79.378937  \n",
       "55                                     St. James Town  43.651494 -79.375418  \n",
       "56                                        Berczy Park  43.644771 -79.373306  \n",
       "57                                 Central Bay Street  43.657952 -79.387383  \n",
       "58                           Adelaide, King, Richmond  43.650571 -79.384568  \n",
       "59  Harbourfront East, Toronto Islands, Union Station  43.640816 -79.381752  \n",
       "60           Design Exchange, Toronto Dominion Centre  43.647177 -79.381576  \n",
       "61                     Commerce Court, Victoria Hotel  43.648198 -79.379817  \n",
       "66                     Harbord, University of Toronto  43.662696 -79.400049  \n",
       "67          Chinatown, Grange Park, Kensington Market  43.653206 -79.400049  \n",
       "68  CN Tower, Bathurst Quay, Island airport, Harbo...  43.628947 -79.394420  \n",
       "69                    Stn A PO Boxes 25 The Esplanade  43.646435 -79.374846  \n",
       "70             First Canadian Place, Underground city  43.648429 -79.382280  \n",
       "75                                           Christie  43.669542 -79.422564  "
      ]
     },
     "execution_count": 48,
     "metadata": {},
     "output_type": "execute_result"
    }
   ],
   "source": [
    "# Analysing Downtown Toronto borough\n",
    "detailed_df[detailed_df.Borough == 'Downtown Toronto']"
   ]
  },
  {
   "cell_type": "markdown",
   "metadata": {},
   "source": [
    "Downtown Toronto has 18 different postal codes and around 34 neighborhoods on the whole"
   ]
  },
  {
   "cell_type": "code",
   "execution_count": 49,
   "metadata": {},
   "outputs": [
    {
     "data": {
      "text/plain": [
       "PostalCode      9\n",
       "Borough         9\n",
       "Neighborhood    9\n",
       "Latitude        9\n",
       "Longitude       9\n",
       "dtype: int64"
      ]
     },
     "execution_count": 49,
     "metadata": {},
     "output_type": "execute_result"
    }
   ],
   "source": [
    "# Analysing Central Toronto borough\n",
    "detailed_df[detailed_df.Borough == 'Central Toronto'].count()\n"
   ]
  },
  {
   "cell_type": "markdown",
   "metadata": {},
   "source": [
    "Central Toronto has 9 different postal codes and around 16 neighborhoods"
   ]
  },
  {
   "cell_type": "code",
   "execution_count": 50,
   "metadata": {},
   "outputs": [
    {
     "data": {
      "text/plain": [
       "PostalCode      6\n",
       "Borough         6\n",
       "Neighborhood    6\n",
       "Latitude        6\n",
       "Longitude       6\n",
       "dtype: int64"
      ]
     },
     "execution_count": 50,
     "metadata": {},
     "output_type": "execute_result"
    }
   ],
   "source": [
    "# Analysing West Toronto borough\n",
    "detailed_df[detailed_df.Borough == 'West Toronto'].count()"
   ]
  },
  {
   "cell_type": "markdown",
   "metadata": {},
   "source": [
    "West Toronto has 6 different postal codes and around 13 neighborhoods"
   ]
  },
  {
   "cell_type": "code",
   "execution_count": 51,
   "metadata": {},
   "outputs": [
    {
     "data": {
      "text/plain": [
       "PostalCode      5\n",
       "Borough         5\n",
       "Neighborhood    5\n",
       "Latitude        5\n",
       "Longitude       5\n",
       "dtype: int64"
      ]
     },
     "execution_count": 51,
     "metadata": {},
     "output_type": "execute_result"
    }
   ],
   "source": [
    "# Analysing East Toronto borough\n",
    "detailed_df[detailed_df.Borough == 'East Toronto'].count()"
   ]
  },
  {
   "cell_type": "markdown",
   "metadata": {},
   "source": [
    "East Toronto has 5 different postal codes and around 7 neighborhoods"
   ]
  },
  {
   "cell_type": "code",
   "execution_count": 68,
   "metadata": {},
   "outputs": [
    {
     "data": {
      "text/html": [
       "<div>\n",
       "<style scoped>\n",
       "    .dataframe tbody tr th:only-of-type {\n",
       "        vertical-align: middle;\n",
       "    }\n",
       "\n",
       "    .dataframe tbody tr th {\n",
       "        vertical-align: top;\n",
       "    }\n",
       "\n",
       "    .dataframe thead th {\n",
       "        text-align: right;\n",
       "    }\n",
       "</style>\n",
       "<table border=\"1\" class=\"dataframe\">\n",
       "  <thead>\n",
       "    <tr style=\"text-align: right;\">\n",
       "      <th></th>\n",
       "      <th>PostalCode</th>\n",
       "      <th>Borough</th>\n",
       "      <th>Neighborhood</th>\n",
       "      <th>Latitude</th>\n",
       "      <th>Longitude</th>\n",
       "    </tr>\n",
       "  </thead>\n",
       "  <tbody>\n",
       "    <tr>\n",
       "      <th>50</th>\n",
       "      <td>M4W</td>\n",
       "      <td>Downtown Toronto</td>\n",
       "      <td>Rosedale</td>\n",
       "      <td>43.679563</td>\n",
       "      <td>-79.377529</td>\n",
       "    </tr>\n",
       "    <tr>\n",
       "      <th>51</th>\n",
       "      <td>M4X</td>\n",
       "      <td>Downtown Toronto</td>\n",
       "      <td>Cabbagetown, St. James Town</td>\n",
       "      <td>43.667967</td>\n",
       "      <td>-79.367675</td>\n",
       "    </tr>\n",
       "    <tr>\n",
       "      <th>52</th>\n",
       "      <td>M4Y</td>\n",
       "      <td>Downtown Toronto</td>\n",
       "      <td>Church and Wellesley</td>\n",
       "      <td>43.665860</td>\n",
       "      <td>-79.383160</td>\n",
       "    </tr>\n",
       "    <tr>\n",
       "      <th>53</th>\n",
       "      <td>M5A</td>\n",
       "      <td>Downtown Toronto</td>\n",
       "      <td>Harbourfront, Regent Park</td>\n",
       "      <td>43.654260</td>\n",
       "      <td>-79.360636</td>\n",
       "    </tr>\n",
       "    <tr>\n",
       "      <th>54</th>\n",
       "      <td>M5B</td>\n",
       "      <td>Downtown Toronto</td>\n",
       "      <td>Ryerson, Garden District</td>\n",
       "      <td>43.657162</td>\n",
       "      <td>-79.378937</td>\n",
       "    </tr>\n",
       "  </tbody>\n",
       "</table>\n",
       "</div>"
      ],
      "text/plain": [
       "   PostalCode           Borough                 Neighborhood   Latitude  \\\n",
       "50        M4W  Downtown Toronto                     Rosedale  43.679563   \n",
       "51        M4X  Downtown Toronto  Cabbagetown, St. James Town  43.667967   \n",
       "52        M4Y  Downtown Toronto         Church and Wellesley  43.665860   \n",
       "53        M5A  Downtown Toronto    Harbourfront, Regent Park  43.654260   \n",
       "54        M5B  Downtown Toronto     Ryerson, Garden District  43.657162   \n",
       "\n",
       "    Longitude  \n",
       "50 -79.377529  \n",
       "51 -79.367675  \n",
       "52 -79.383160  \n",
       "53 -79.360636  \n",
       "54 -79.378937  "
      ]
     },
     "execution_count": 68,
     "metadata": {},
     "output_type": "execute_result"
    }
   ],
   "source": [
    "# Creating a new dataframe for cluster analysis of 'Toronto' Boroughs\n",
    "d_t = detailed_df[detailed_df['Borough'] == 'Downtown Toronto']\n",
    "c_t = detailed_df[detailed_df['Borough'] == 'Central Toronto']\n",
    "w_t = detailed_df[detailed_df['Borough'] == 'West Toronto']\n",
    "e_t = detailed_df[detailed_df['Borough'] == 'East Toronto']\n",
    "\n",
    "toronto_cluster = pd.concat([d_t, c_t, w_t, e_t], sort=False)\n",
    "\n",
    "toronto_cluster.head()\n",
    "# toronto_cluster.shape"
   ]
  },
  {
   "cell_type": "code",
   "execution_count": 72,
   "metadata": {},
   "outputs": [
    {
     "name": "stdout",
     "output_type": "stream",
     "text": [
      "Coordinates of Toronto are 43.653963, -79.387207. \n"
     ]
    }
   ],
   "source": [
    "# Using geopy to get the latitude and longitude values of Toronto\n",
    "\n",
    "address = 'Toronto, Ontario'\n",
    "\n",
    "geolocator = Nominatim(user_agent=\"toronto_explorer\")\n",
    "location = geolocator.geocode(address)\n",
    "latitude = location.latitude\n",
    "longitude = location.longitude\n",
    "print('Coordinates of Toronto are {}, {}. '.format(latitude, longitude))"
   ]
  },
  {
   "cell_type": "markdown",
   "metadata": {},
   "source": [
    "##### Creating a map of Toronto with neighborhoods superimposed on Top"
   ]
  },
  {
   "cell_type": "code",
   "execution_count": 78,
   "metadata": {
    "scrolled": true
   },
   "outputs": [
    {
     "data": {
      "text/html": [
       "<div style=\"width:100%;\"><div style=\"position:relative;width:100%;height:0;padding-bottom:60%;\"><iframe src=\"data:text/html;charset=utf-8;base64,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\" style=\"position:absolute;width:100%;height:100%;left:0;top:0;border:none !important;\" allowfullscreen webkitallowfullscreen mozallowfullscreen></iframe></div></div>"
      ],
      "text/plain": [
       "<folium.folium.Map at 0x11b0583c8>"
      ]
     },
     "execution_count": 78,
     "metadata": {},
     "output_type": "execute_result"
    }
   ],
   "source": [
    "# creating a map of toronto using latitude and longitude values\n",
    "map_toronto = folium.Map(location=[latitude, longitude], zoom_start=11)\n",
    "\n",
    "# adding markers\n",
    "for lat, lng, borough, neighborhood in zip(toronto_cluster['Latitude'], toronto_cluster['Longitude'], toronto_cluster['Borough'], toronto_cluster['Neighborhood']):\n",
    "    label = '{}, {}'.format(neighborhood, borough)\n",
    "    label = folium.Popup(label, parse_html=True)\n",
    "    folium.CircleMarker(\n",
    "        [lat, lng],\n",
    "        radius=5,\n",
    "        popup=label,\n",
    "        color='blue',\n",
    "        fill=True,\n",
    "        fill_color='#3186cc',\n",
    "        fill_opacity=0.5,\n",
    "        parse_html=False).add_to(map_toronto)\n",
    "    \n",
    "map_toronto"
   ]
  },
  {
   "cell_type": "markdown",
   "metadata": {},
   "source": [
    "The above map shows 4 different Boroughs (\"Downtown Toronto\", \"Central Toronto\", \"West Toronto\", and \"East Toronto\") with it's associated neighborhoods."
   ]
  },
  {
   "cell_type": "markdown",
   "metadata": {},
   "source": [
    "Let us now dig deep into the Downtown Toronto borough for further analysis."
   ]
  },
  {
   "cell_type": "code",
   "execution_count": null,
   "metadata": {},
   "outputs": [],
   "source": []
  }
 ],
 "metadata": {
  "kernelspec": {
   "display_name": "Python 3",
   "language": "python",
   "name": "python3"
  },
  "language_info": {
   "codemirror_mode": {
    "name": "ipython",
    "version": 3
   },
   "file_extension": ".py",
   "mimetype": "text/x-python",
   "name": "python",
   "nbconvert_exporter": "python",
   "pygments_lexer": "ipython3",
   "version": "3.7.2"
  }
 },
 "nbformat": 4,
 "nbformat_minor": 2
}
